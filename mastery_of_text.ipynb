{
 "cells": [
  {
   "cell_type": "code",
   "execution_count": 3,
   "id": "ce540aa6-6ef0-401b-8a27-4de6241735ad",
   "metadata": {},
   "outputs": [
    {
     "name": "stdout",
     "output_type": "stream",
     "text": [
      "Downloaded text with 4451818 characters.\n",
      "Number of lines: 99969\n",
      "Number of words: 795227\n",
      "Occurences of 'apostle':47\n",
      "Most common word: 'the' (appears 64309 times)\n"
     ]
    }
   ],
   "source": [
    "# 1. Download the text\n",
    "from urllib.request import urlopen\n",
    "url = \"https://www.gutenberg.org/cache/epub/10/pg10.txt\"\n",
    "with urlopen(url) as response:\n",
    "    #using utf-8 to convert raw data into readable data then storing the text in pg10\n",
    "    pg10 = response.read().decode('utf-8')\n",
    "\n",
    "print(f\"Downloaded text with {len(pg10)} characters.\")\n",
    "\n",
    "# 2. Checking the text\n",
    "\n",
    "#[A]Number of lines\n",
    "lines = pg10.split('\\n')\n",
    "num_lines = len(lines)\n",
    "print(f\"Number of lines: {num_lines}\")\n",
    "\n",
    "#[B]Word count\n",
    "words = []\n",
    "current_word = \"\"\n",
    "for char in pg10:\n",
    "    if char.isalpha():\n",
    "        current_word += char\n",
    "\n",
    "    else:\n",
    "        if current_word:\n",
    "            words.append(current_word)\n",
    "            current_word = \"\"\n",
    "if current_word:\n",
    "    words.append(current_word)\n",
    "\n",
    "num_words = len(words)\n",
    "print(f\"Number of words: {num_words}\")\n",
    "\n",
    "#Number of times the word \"apostle\" appears\n",
    "apostle_count = 0\n",
    "for word in words:\n",
    "    if word.lower() == \"apostle\":\n",
    "        apostle_count += 1\n",
    "print(f\"Occurences of 'apostle':{apostle_count}\")\n",
    "\n",
    "#Most common word and times it appeared \n",
    "\n",
    "##count how many times each word appears and make it into a dictionary \n",
    "word_counts = {}\n",
    "for word in words:\n",
    "    word_lower = word.lower()\n",
    "    if word_lower in word_counts:\n",
    "        word_counts[word_lower] += 1\n",
    "    else:\n",
    "        word_counts[word_lower] = 1\n",
    "\n",
    "##find the most common word\n",
    "most_common_word = None\n",
    "max_count = 0\n",
    "for word, count in word_counts.items():\n",
    "    if count>max_count:\n",
    "        most_common_word = word\n",
    "        max_count = count\n",
    "\n",
    "print(f\"Most common word: '{most_common_word}' (appears {max_count} times)\")"
   ]
  },
  {
   "cell_type": "code",
   "execution_count": null,
   "id": "247f4fa7-9c85-448d-8778-7fc233528745",
   "metadata": {},
   "outputs": [],
   "source": []
  }
 ],
 "metadata": {
  "kernelspec": {
   "display_name": "Python [conda env:base] *",
   "language": "python",
   "name": "conda-base-py"
  },
  "language_info": {
   "codemirror_mode": {
    "name": "ipython",
    "version": 3
   },
   "file_extension": ".py",
   "mimetype": "text/x-python",
   "name": "python",
   "nbconvert_exporter": "python",
   "pygments_lexer": "ipython3",
   "version": "3.12.7"
  }
 },
 "nbformat": 4,
 "nbformat_minor": 5
}
